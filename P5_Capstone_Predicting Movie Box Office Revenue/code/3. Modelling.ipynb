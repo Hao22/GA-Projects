{
 "cells": [
  {
   "cell_type": "markdown",
   "id": "165e3a86",
   "metadata": {},
   "source": [
    "<img src=\"http://imgur.com/1ZcRyrc.png\" style=\"float: left; margin: 20px; height: 55px\">\n",
    "\n",
    "# Capstone Project - Predicting Movie Box Office Revenue (Part 3 - Modelling)"
   ]
  },
  {
   "cell_type": "markdown",
   "id": "29302e8a",
   "metadata": {},
   "source": [
    "## Table of Contents\n",
    "\n",
    "- [Import libraries](#Import-libraries)\n",
    "- [Preprocessing](#Preprocessing)\n",
    "- [Modelling](#Modelling)\n",
    "    - [Evaluating models with default parameters](#Evaluating-models-with-default-parameters)\n",
    "    - [Hyperparameter Tuning](#Hyperparameter-Tuning)\n",
    "- [Conclusion](#Conclusion)"
   ]
  },
  {
   "cell_type": "markdown",
   "id": "e28759d2",
   "metadata": {},
   "source": [
    "## Import libraries"
   ]
  },
  {
   "cell_type": "code",
   "execution_count": 1,
   "id": "25384f8d",
   "metadata": {},
   "outputs": [],
   "source": [
    "#import libraries\n",
    "\n",
    "import numpy as np\n",
    "import pandas as pd\n",
    "import matplotlib.pyplot as plt\n",
    "import seaborn as sns\n",
    "\n",
    "#import sklearn libraries\n",
    "from sklearn.model_selection import train_test_split, cross_val_score, GridSearchCV\n",
    "from sklearn.preprocessing import MinMaxScaler, StandardScaler\n",
    "from sklearn.linear_model import LinearRegression, ElasticNet, ElasticNetCV, Ridge, Lasso, RidgeCV, LassoCV\n",
    "from sklearn.dummy import DummyRegressor\n",
    "from sklearn.neighbors import KNeighborsRegressor\n",
    "from sklearn.tree import DecisionTreeRegressor\n",
    "from sklearn.ensemble import AdaBoostRegressor, BaggingRegressor, GradientBoostingRegressor, RandomForestRegressor\n",
    "from sklearn.svm import SVR\n",
    "from sklearn.pipeline import Pipeline\n",
    "from sklearn.metrics import mean_squared_error, r2_score\n",
    "\n",
    "#import additional gb models\n",
    "from xgboost import XGBRegressor\n",
    "from lightgbm import LGBMRegressor\n",
    "from catboost import CatBoostRegressor\n",
    "\n",
    "#set notebook parameters\n",
    "pd.set_option('display.max_columns', None)\n",
    "pd.set_option('display.max_rows', None)\n",
    "pd.set_option('max_colwidth', 60)"
   ]
  },
  {
   "cell_type": "code",
   "execution_count": 2,
   "id": "e4a0ccc6",
   "metadata": {},
   "outputs": [],
   "source": [
    "df = pd.read_csv('../data/cleaned_df')"
   ]
  },
  {
   "cell_type": "code",
   "execution_count": 3,
   "id": "f6c9e469",
   "metadata": {},
   "outputs": [
    {
     "data": {
      "text/html": [
       "<div>\n",
       "<style scoped>\n",
       "    .dataframe tbody tr th:only-of-type {\n",
       "        vertical-align: middle;\n",
       "    }\n",
       "\n",
       "    .dataframe tbody tr th {\n",
       "        vertical-align: top;\n",
       "    }\n",
       "\n",
       "    .dataframe thead th {\n",
       "        text-align: right;\n",
       "    }\n",
       "</style>\n",
       "<table border=\"1\" class=\"dataframe\">\n",
       "  <thead>\n",
       "    <tr style=\"text-align: right;\">\n",
       "      <th></th>\n",
       "      <th>budget</th>\n",
       "      <th>original_language</th>\n",
       "      <th>revenue</th>\n",
       "      <th>runtime</th>\n",
       "      <th>vote_average</th>\n",
       "      <th>vote_count</th>\n",
       "      <th>top_50_production_companies</th>\n",
       "      <th>top_5_production_countries</th>\n",
       "      <th>top_5_spoken_languages</th>\n",
       "      <th>top_100_cast</th>\n",
       "      <th>top_20_directors</th>\n",
       "      <th>Action</th>\n",
       "      <th>Adventure</th>\n",
       "      <th>Animation</th>\n",
       "      <th>Comedy</th>\n",
       "      <th>Crime</th>\n",
       "      <th>Documentary</th>\n",
       "      <th>Drama</th>\n",
       "      <th>Family</th>\n",
       "      <th>Fantasy</th>\n",
       "      <th>History</th>\n",
       "      <th>Horror</th>\n",
       "      <th>Music</th>\n",
       "      <th>Mystery</th>\n",
       "      <th>Romance</th>\n",
       "      <th>Science Fiction</th>\n",
       "      <th>TV Movie</th>\n",
       "      <th>Thriller</th>\n",
       "      <th>War</th>\n",
       "      <th>Western</th>\n",
       "      <th>years_released</th>\n",
       "    </tr>\n",
       "  </thead>\n",
       "  <tbody>\n",
       "    <tr>\n",
       "      <th>0</th>\n",
       "      <td>75000000</td>\n",
       "      <td>English</td>\n",
       "      <td>161000000</td>\n",
       "      <td>104</td>\n",
       "      <td>6.4</td>\n",
       "      <td>1314</td>\n",
       "      <td>1</td>\n",
       "      <td>1</td>\n",
       "      <td>1</td>\n",
       "      <td>0</td>\n",
       "      <td>0</td>\n",
       "      <td>1</td>\n",
       "      <td>0</td>\n",
       "      <td>0</td>\n",
       "      <td>0</td>\n",
       "      <td>0</td>\n",
       "      <td>0</td>\n",
       "      <td>0</td>\n",
       "      <td>0</td>\n",
       "      <td>1</td>\n",
       "      <td>0</td>\n",
       "      <td>0</td>\n",
       "      <td>0</td>\n",
       "      <td>0</td>\n",
       "      <td>0</td>\n",
       "      <td>1</td>\n",
       "      <td>0</td>\n",
       "      <td>0</td>\n",
       "      <td>0</td>\n",
       "      <td>0</td>\n",
       "      <td>0.0</td>\n",
       "    </tr>\n",
       "    <tr>\n",
       "      <th>1</th>\n",
       "      <td>74000000</td>\n",
       "      <td>English</td>\n",
       "      <td>164289828</td>\n",
       "      <td>112</td>\n",
       "      <td>6.7</td>\n",
       "      <td>885</td>\n",
       "      <td>1</td>\n",
       "      <td>1</td>\n",
       "      <td>1</td>\n",
       "      <td>2</td>\n",
       "      <td>0</td>\n",
       "      <td>1</td>\n",
       "      <td>1</td>\n",
       "      <td>0</td>\n",
       "      <td>1</td>\n",
       "      <td>0</td>\n",
       "      <td>0</td>\n",
       "      <td>0</td>\n",
       "      <td>0</td>\n",
       "      <td>0</td>\n",
       "      <td>0</td>\n",
       "      <td>0</td>\n",
       "      <td>0</td>\n",
       "      <td>0</td>\n",
       "      <td>1</td>\n",
       "      <td>0</td>\n",
       "      <td>0</td>\n",
       "      <td>0</td>\n",
       "      <td>0</td>\n",
       "      <td>0</td>\n",
       "      <td>0.0</td>\n",
       "    </tr>\n",
       "    <tr>\n",
       "      <th>2</th>\n",
       "      <td>110000000</td>\n",
       "      <td>English</td>\n",
       "      <td>375000000</td>\n",
       "      <td>122</td>\n",
       "      <td>7.7</td>\n",
       "      <td>1760</td>\n",
       "      <td>2</td>\n",
       "      <td>1</td>\n",
       "      <td>1</td>\n",
       "      <td>1</td>\n",
       "      <td>0</td>\n",
       "      <td>1</td>\n",
       "      <td>1</td>\n",
       "      <td>0</td>\n",
       "      <td>1</td>\n",
       "      <td>0</td>\n",
       "      <td>0</td>\n",
       "      <td>0</td>\n",
       "      <td>1</td>\n",
       "      <td>1</td>\n",
       "      <td>0</td>\n",
       "      <td>0</td>\n",
       "      <td>0</td>\n",
       "      <td>0</td>\n",
       "      <td>0</td>\n",
       "      <td>1</td>\n",
       "      <td>0</td>\n",
       "      <td>0</td>\n",
       "      <td>0</td>\n",
       "      <td>0</td>\n",
       "      <td>0.0</td>\n",
       "    </tr>\n",
       "  </tbody>\n",
       "</table>\n",
       "</div>"
      ],
      "text/plain": [
       "      budget original_language    revenue  runtime  vote_average  vote_count  \\\n",
       "0   75000000           English  161000000      104           6.4        1314   \n",
       "1   74000000           English  164289828      112           6.7         885   \n",
       "2  110000000           English  375000000      122           7.7        1760   \n",
       "\n",
       "   top_50_production_companies  top_5_production_countries  \\\n",
       "0                            1                           1   \n",
       "1                            1                           1   \n",
       "2                            2                           1   \n",
       "\n",
       "   top_5_spoken_languages  top_100_cast  top_20_directors  Action  Adventure  \\\n",
       "0                       1             0                 0       1          0   \n",
       "1                       1             2                 0       1          1   \n",
       "2                       1             1                 0       1          1   \n",
       "\n",
       "   Animation  Comedy  Crime  Documentary  Drama  Family  Fantasy  History  \\\n",
       "0          0       0      0            0      0       0        1        0   \n",
       "1          0       1      0            0      0       0        0        0   \n",
       "2          0       1      0            0      0       1        1        0   \n",
       "\n",
       "   Horror  Music  Mystery  Romance  Science Fiction  TV Movie  Thriller  War  \\\n",
       "0       0      0        0        0                1         0         0    0   \n",
       "1       0      0        0        1                0         0         0    0   \n",
       "2       0      0        0        0                1         0         0    0   \n",
       "\n",
       "   Western  years_released  \n",
       "0        0             0.0  \n",
       "1        0             0.0  \n",
       "2        0             0.0  "
      ]
     },
     "execution_count": 3,
     "metadata": {},
     "output_type": "execute_result"
    }
   ],
   "source": [
    "df.head(3)"
   ]
  },
  {
   "cell_type": "code",
   "execution_count": 4,
   "id": "cee5b96e",
   "metadata": {
    "scrolled": true
   },
   "outputs": [
    {
     "name": "stdout",
     "output_type": "stream",
     "text": [
      "<class 'pandas.core.frame.DataFrame'>\n",
      "RangeIndex: 3902 entries, 0 to 3901\n",
      "Data columns (total 31 columns):\n",
      " #   Column                       Non-Null Count  Dtype  \n",
      "---  ------                       --------------  -----  \n",
      " 0   budget                       3902 non-null   int64  \n",
      " 1   original_language            3902 non-null   object \n",
      " 2   revenue                      3902 non-null   int64  \n",
      " 3   runtime                      3902 non-null   int64  \n",
      " 4   vote_average                 3902 non-null   float64\n",
      " 5   vote_count                   3902 non-null   int64  \n",
      " 6   top_50_production_companies  3902 non-null   int64  \n",
      " 7   top_5_production_countries   3902 non-null   int64  \n",
      " 8   top_5_spoken_languages       3902 non-null   int64  \n",
      " 9   top_100_cast                 3902 non-null   int64  \n",
      " 10  top_20_directors             3902 non-null   int64  \n",
      " 11  Action                       3902 non-null   int64  \n",
      " 12  Adventure                    3902 non-null   int64  \n",
      " 13  Animation                    3902 non-null   int64  \n",
      " 14  Comedy                       3902 non-null   int64  \n",
      " 15  Crime                        3902 non-null   int64  \n",
      " 16  Documentary                  3902 non-null   int64  \n",
      " 17  Drama                        3902 non-null   int64  \n",
      " 18  Family                       3902 non-null   int64  \n",
      " 19  Fantasy                      3902 non-null   int64  \n",
      " 20  History                      3902 non-null   int64  \n",
      " 21  Horror                       3902 non-null   int64  \n",
      " 22  Music                        3902 non-null   int64  \n",
      " 23  Mystery                      3902 non-null   int64  \n",
      " 24  Romance                      3902 non-null   int64  \n",
      " 25  Science Fiction              3902 non-null   int64  \n",
      " 26  TV Movie                     3902 non-null   int64  \n",
      " 27  Thriller                     3902 non-null   int64  \n",
      " 28  War                          3902 non-null   int64  \n",
      " 29  Western                      3902 non-null   int64  \n",
      " 30  years_released               3902 non-null   float64\n",
      "dtypes: float64(2), int64(28), object(1)\n",
      "memory usage: 945.1+ KB\n"
     ]
    }
   ],
   "source": [
    "df.info()"
   ]
  },
  {
   "cell_type": "markdown",
   "id": "dafb376f",
   "metadata": {},
   "source": [
    "## Preprocessing"
   ]
  },
  {
   "cell_type": "markdown",
   "id": "fe86ae3f",
   "metadata": {},
   "source": [
    "#### One-hot encoding"
   ]
  },
  {
   "cell_type": "code",
   "execution_count": 5,
   "id": "9d7af7dd",
   "metadata": {},
   "outputs": [],
   "source": [
    "#one-hot encode categorical columns\n",
    "df = pd.get_dummies(data=df, columns=['original_language'], drop_first=True)"
   ]
  },
  {
   "cell_type": "markdown",
   "id": "7e5210fd",
   "metadata": {},
   "source": [
    "#### Train-test-split"
   ]
  },
  {
   "cell_type": "code",
   "execution_count": 6,
   "id": "5d4a34a3",
   "metadata": {},
   "outputs": [],
   "source": [
    "#define X/y variables:\n",
    "X = df.drop('revenue',axis=1)\n",
    "y = df['revenue']\n",
    "\n",
    "#train/test split\n",
    "X_train, X_test, y_train, y_test = train_test_split(X, y, test_size=0.2, random_state=42)"
   ]
  },
  {
   "cell_type": "code",
   "execution_count": 7,
   "id": "796711c7",
   "metadata": {},
   "outputs": [
    {
     "name": "stdout",
     "output_type": "stream",
     "text": [
      "X_train: (3121, 31)\n",
      "X_test: (781, 31)\n"
     ]
    }
   ],
   "source": [
    "print(\"X_train:\", X_train.shape)\n",
    "print(\"X_test:\", X_test.shape)"
   ]
  },
  {
   "cell_type": "markdown",
   "id": "632737da",
   "metadata": {},
   "source": [
    "#### Variable scaling"
   ]
  },
  {
   "cell_type": "markdown",
   "id": "d89d4539",
   "metadata": {},
   "source": [
    "Our numeric features are not quite normally distributed, therefore we will use the MinMaxScaler to scale our feature variables."
   ]
  },
  {
   "cell_type": "code",
   "execution_count": 8,
   "id": "1fbdb6ce",
   "metadata": {},
   "outputs": [],
   "source": [
    "#min-max scale features\n",
    "mm = MinMaxScaler()\n",
    "X_train_scaled = mm.fit_transform(X_train)\n",
    "X_test_scaled = mm.transform(X_test)"
   ]
  },
  {
   "cell_type": "markdown",
   "id": "0654ba2e",
   "metadata": {},
   "source": [
    "## Modelling"
   ]
  },
  {
   "cell_type": "code",
   "execution_count": 9,
   "id": "ceda6094",
   "metadata": {},
   "outputs": [],
   "source": [
    "#function to run model\n",
    "\n",
    "def run_model(model,modelname, X_train, X_test, y_train, y_test):\n",
    "\n",
    "    #Fit model\n",
    "    model.fit(X_train,y_train)\n",
    "    \n",
    "    #Predict\n",
    "    y_preds_train = model.predict(X_train)\n",
    "    y_preds_test = model.predict(X_test)\n",
    "    \n",
    "    #metrics\n",
    "    r2_train = r2_score(y_train, y_preds_train)\n",
    "    r2_test = r2_score(y_test, y_preds_test)\n",
    "    \n",
    "    rmse_train = np.sqrt(mean_squared_error(y_train, y_preds_train))\n",
    "    rmse_test = np.sqrt(mean_squared_error(y_test, y_preds_test))\n",
    "    \n",
    "    print(modelname)\n",
    "    print(u'\\u2500' * 30)\n",
    "    print(modelname, f\"train RMSE: \", rmse_train)\n",
    "    print(modelname, f\"test RMSE: \", rmse_test)\n",
    "    print(modelname, f\"train R2 score: \", r2_train)\n",
    "    print(modelname, f\"test R2 score: \", r2_test)"
   ]
  },
  {
   "cell_type": "markdown",
   "id": "c2ecc6b2",
   "metadata": {},
   "source": [
    "#### Null model"
   ]
  },
  {
   "cell_type": "code",
   "execution_count": 10,
   "id": "2c12fd07",
   "metadata": {},
   "outputs": [
    {
     "name": "stdout",
     "output_type": "stream",
     "text": [
      "Dummy Model\n",
      "──────────────────────────────\n",
      "Dummy Model train RMSE:  128595538.60487163\n",
      "Dummy Model test RMSE:  135663432.03449133\n",
      "Dummy Model train R2 score:  0.0\n",
      "Dummy Model test R2 score:  -0.0004915083487890826\n"
     ]
    }
   ],
   "source": [
    "#Predicting based on mean\n",
    "dummy = DummyRegressor()\n",
    "run_model(dummy, 'Dummy Model', X_train, X_test, y_train, y_test)"
   ]
  },
  {
   "cell_type": "markdown",
   "id": "f700f481",
   "metadata": {},
   "source": [
    "The null model did badly with a high RMSE score of 135,663,432, and a slightly negative R2 score."
   ]
  },
  {
   "cell_type": "markdown",
   "id": "aabb33c7",
   "metadata": {},
   "source": [
    "### Evaluating models with default parameters\n",
    "\n",
    "We will evaluate the performance of a few models using the default hyperparameters to identify the potential models for further hyperparameter tuning."
   ]
  },
  {
   "cell_type": "markdown",
   "id": "6bda194f",
   "metadata": {},
   "source": [
    "#### Linear Regression model (base model)"
   ]
  },
  {
   "cell_type": "code",
   "execution_count": 11,
   "id": "e93be5d1",
   "metadata": {},
   "outputs": [
    {
     "name": "stdout",
     "output_type": "stream",
     "text": [
      "Linear Regression Model\n",
      "──────────────────────────────\n",
      "Linear Regression Model train RMSE:  77320017.63256599\n",
      "Linear Regression Model test RMSE:  78276663.75121334\n",
      "Linear Regression Model train R2 score:  0.6384802023389938\n",
      "Linear Regression Model test R2 score:  0.6669170350380136\n"
     ]
    }
   ],
   "source": [
    "lr = LinearRegression()\n",
    "run_model(lr,'Linear Regression Model', X_train, X_test, y_train, y_test)"
   ]
  },
  {
   "cell_type": "markdown",
   "id": "3544494b",
   "metadata": {},
   "source": [
    "#### K Nearest Neighbours model"
   ]
  },
  {
   "cell_type": "code",
   "execution_count": 12,
   "id": "7b337fca",
   "metadata": {},
   "outputs": [
    {
     "name": "stdout",
     "output_type": "stream",
     "text": [
      "K Nearest Neighbours Model\n",
      "──────────────────────────────\n",
      "K Nearest Neighbours Model train RMSE:  78768088.20435749\n",
      "K Nearest Neighbours Model test RMSE:  92098270.09345272\n",
      "K Nearest Neighbours Model train R2 score:  0.6248121153362334\n",
      "K Nearest Neighbours Model test R2 score:  0.5389046387715926\n"
     ]
    }
   ],
   "source": [
    "knn = KNeighborsRegressor()\n",
    "run_model(knn,'K Nearest Neighbours Model', X_train_scaled, X_test_scaled, y_train, y_test)"
   ]
  },
  {
   "cell_type": "markdown",
   "id": "6987ed23",
   "metadata": {},
   "source": [
    "#### Random Forest model"
   ]
  },
  {
   "cell_type": "code",
   "execution_count": 13,
   "id": "593c66ce",
   "metadata": {},
   "outputs": [
    {
     "name": "stdout",
     "output_type": "stream",
     "text": [
      "Random Forest Model\n",
      "──────────────────────────────\n",
      "Random Forest Model train RMSE:  27429799.229289826\n",
      "Random Forest Model test RMSE:  71189341.76671922\n",
      "Random Forest Model train R2 score:  0.954501879759099\n",
      "Random Forest Model test R2 score:  0.7245024365520127\n"
     ]
    }
   ],
   "source": [
    "rf = RandomForestRegressor(random_state=42)\n",
    "run_model(rf,'Random Forest Model', X_train, X_test, y_train, y_test)"
   ]
  },
  {
   "cell_type": "markdown",
   "id": "f29a469f",
   "metadata": {},
   "source": [
    "#### Adaboost model"
   ]
  },
  {
   "cell_type": "code",
   "execution_count": 14,
   "id": "8798ef3e",
   "metadata": {},
   "outputs": [
    {
     "name": "stdout",
     "output_type": "stream",
     "text": [
      "Adaboost Model\n",
      "──────────────────────────────\n",
      "Adaboost Model train RMSE:  100877848.37876146\n",
      "Adaboost Model test RMSE:  106212763.59367463\n",
      "Adaboost Model train R2 score:  0.38462504407499265\n",
      "Adaboost Model test R2 score:  0.38674481947229733\n"
     ]
    }
   ],
   "source": [
    "ada = AdaBoostRegressor(random_state=42)\n",
    "run_model(ada,'Adaboost Model', X_train, X_test, y_train, y_test)"
   ]
  },
  {
   "cell_type": "markdown",
   "id": "7c6df275",
   "metadata": {},
   "source": [
    "#### Support Vector model"
   ]
  },
  {
   "cell_type": "code",
   "execution_count": 15,
   "id": "22cc2395",
   "metadata": {},
   "outputs": [
    {
     "name": "stdout",
     "output_type": "stream",
     "text": [
      "Support Vector Model\n",
      "──────────────────────────────\n",
      "Support Vector Model train RMSE:  136705675.82927135\n",
      "Support Vector Model test RMSE:  144343864.63306692\n",
      "Support Vector Model train R2 score:  -0.1301114860240029\n",
      "Support Vector Model test R2 score:  -0.13262062314701617\n"
     ]
    }
   ],
   "source": [
    "svr = SVR()\n",
    "run_model(svr, 'Support Vector Model', X_train_scaled, X_test_scaled, y_train, y_test)"
   ]
  },
  {
   "cell_type": "markdown",
   "id": "30a74462",
   "metadata": {},
   "source": [
    "#### XGBoost model"
   ]
  },
  {
   "cell_type": "code",
   "execution_count": 16,
   "id": "35355bb7",
   "metadata": {},
   "outputs": [
    {
     "name": "stdout",
     "output_type": "stream",
     "text": [
      "XGBoost Model\n",
      "──────────────────────────────\n",
      "XGBoost Model train RMSE:  18418106.06035198\n",
      "XGBoost Model test RMSE:  71211282.52185196\n",
      "XGBoost Model train R2 score:  0.9794865770024521\n",
      "XGBoost Model test R2 score:  0.7243325921367005\n"
     ]
    }
   ],
   "source": [
    "xgb = XGBRegressor(random_state=42)\n",
    "run_model(xgb, 'XGBoost Model', X_train, X_test, y_train, y_test)"
   ]
  },
  {
   "cell_type": "markdown",
   "id": "1bc7f292",
   "metadata": {},
   "source": [
    "#### LightGBM model"
   ]
  },
  {
   "cell_type": "code",
   "execution_count": 17,
   "id": "82246ea9",
   "metadata": {},
   "outputs": [
    {
     "name": "stdout",
     "output_type": "stream",
     "text": [
      "LightGBM Model\n",
      "──────────────────────────────\n",
      "LightGBM Model train RMSE:  41334640.435101\n",
      "LightGBM Model test RMSE:  69166665.04373023\n",
      "LightGBM Model train R2 score:  0.8966818729529321\n",
      "LightGBM Model test R2 score:  0.7399352564496455\n"
     ]
    }
   ],
   "source": [
    "lgbm = LGBMRegressor(random_state=42)\n",
    "run_model(lgbm, 'LightGBM Model', X_train, X_test, y_train, y_test)"
   ]
  },
  {
   "cell_type": "markdown",
   "id": "87fcfd6c",
   "metadata": {},
   "source": [
    "#### CatBoost model"
   ]
  },
  {
   "cell_type": "code",
   "execution_count": 18,
   "id": "3c0f55bd",
   "metadata": {},
   "outputs": [
    {
     "name": "stdout",
     "output_type": "stream",
     "text": [
      "CatBoost Model\n",
      "──────────────────────────────\n",
      "CatBoost Model train RMSE:  35566348.51259714\n",
      "CatBoost Model test RMSE:  67748723.86896738\n",
      "CatBoost Model train R2 score:  0.9235061084011548\n",
      "CatBoost Model test R2 score:  0.750488799493146\n"
     ]
    }
   ],
   "source": [
    "cb = CatBoostRegressor(random_state=42, verbose=False)\n",
    "run_model(cb, 'CatBoost Model', X_train, X_test, y_train, y_test)"
   ]
  },
  {
   "cell_type": "markdown",
   "id": "72f59151",
   "metadata": {},
   "source": [
    "Based on the models that we ran, Random Forest, XGBoost, LightGBM and CatBoost had the better metric performance in terms of RMSE score and R2 scores. Also, there were signs of overfitting. We will tune the hyperparameters  on these 4 models and reevaluate their performance."
   ]
  },
  {
   "cell_type": "markdown",
   "id": "f003f888",
   "metadata": {},
   "source": [
    "### Hyperparameter Tuning"
   ]
  },
  {
   "cell_type": "code",
   "execution_count": 19,
   "id": "e7316c24",
   "metadata": {},
   "outputs": [],
   "source": [
    "#dict of models to tune hyperparameters\n",
    "model_dict = {\n",
    "    'rf': RandomForestRegressor(random_state=42),\n",
    "    'xgb': XGBRegressor(random_state=42),\n",
    "    'lgbm': LGBMRegressor(random_state=42),\n",
    "    'cb': CatBoostRegressor(random_state=42, verbose=False)\n",
    "}\n",
    "\n",
    "#dict of hyperparameters to be tuned for each model\n",
    "params_dict = {\n",
    "    'rf': {'n_estimators': [100,350],\n",
    "           'max_depth': [25],\n",
    "           'max_features': ['auto']\n",
    "          },\n",
    "    \n",
    "    'xgb': {'n_estimators': [500,650],\n",
    "            'max_depth': [6],\n",
    "            'learning_rate': [0.01,0.1],\n",
    "            'reg_alpha': [1,5],\n",
    "            'reg_lambda': [1,10],\n",
    "            'gamma': [0.01,0.1]\n",
    "           },\n",
    "    \n",
    "    'lgbm': {'n_estimators': [300,450],\n",
    "             'max_depth': [10,15],\n",
    "             'learning_rate': [0.01,0.1]\n",
    "            },\n",
    "    \n",
    "    'cb': {'n_estimators': [300,500],\n",
    "           'max_depth': [4,8],\n",
    "           'learning_rate': [0.05,0.1]\n",
    "    }\n",
    "}"
   ]
  },
  {
   "cell_type": "code",
   "execution_count": 21,
   "id": "d0ee8e1f",
   "metadata": {},
   "outputs": [],
   "source": [
    "#function to tune model hyperparameters\n",
    "\n",
    "def tune_model(model, \n",
    "               modelname, \n",
    "               model_dict=model_dict, \n",
    "               params_dict=params_dict,\n",
    "               X_train=X_train, \n",
    "               X_test=X_test, \n",
    "               y_train=y_train, \n",
    "               y_test=y_test):\n",
    "\n",
    "    #define instantiator and hyperparameters for tuning in GridSearchCV\n",
    "    gs_model = model_dict[model]\n",
    "    gs_param = params_dict[model]\n",
    "    \n",
    "    #Instantiate GridSearchCV\n",
    "    gs = GridSearchCV(gs_model, param_grid=gs_param, cv=5, scoring='r2', verbose=1)\n",
    "    \n",
    "    #Fit model\n",
    "    gs.fit(X_train,y_train)\n",
    "    \n",
    "    #Predict\n",
    "    y_preds_train = gs.predict(X_train)\n",
    "    y_preds_test = gs.predict(X_test)\n",
    "    \n",
    "    #metrics\n",
    "    r2_train = r2_score(y_train, y_preds_train)\n",
    "    r2_test = r2_score(y_test, y_preds_test)\n",
    "    \n",
    "    rmse_train = np.sqrt(mean_squared_error(y_train, y_preds_train))\n",
    "    rmse_test = np.sqrt(mean_squared_error(y_test, y_preds_test))\n",
    "    \n",
    "    print('')\n",
    "    print(f\"Optimized hyperparameters: {gs.best_params_}\")\n",
    "    print('')\n",
    "    print(modelname)\n",
    "    print(u'\\u2500' * 30)\n",
    "    print(modelname, f\"train RMSE: \", rmse_train)\n",
    "    print(modelname, f\"test RMSE: \", rmse_test)\n",
    "    print(modelname, f\"train R2 score: \", r2_train)\n",
    "    print(modelname, f\"test R2 score: \", r2_test)\n",
    "    print('')"
   ]
  },
  {
   "cell_type": "markdown",
   "id": "06f22028",
   "metadata": {},
   "source": [
    "#### Random Forest model"
   ]
  },
  {
   "cell_type": "code",
   "execution_count": 22,
   "id": "39b0e237",
   "metadata": {},
   "outputs": [
    {
     "name": "stdout",
     "output_type": "stream",
     "text": [
      "Fitting 5 folds for each of 2 candidates, totalling 10 fits\n",
      "\n",
      "Optimized hyperparameters: {'max_depth': 25, 'max_features': 'auto', 'n_estimators': 350}\n",
      "\n",
      "Random Forest Model\n",
      "──────────────────────────────\n",
      "Random Forest Model train RMSE:  26985089.47250132\n",
      "Random Forest Model test RMSE:  71065163.90988877\n",
      "Random Forest Model train R2 score:  0.955965210848354\n",
      "Random Forest Model test R2 score:  0.7254627168055893\n",
      "\n",
      "CPU times: user 42.2 s, sys: 249 ms, total: 42.4 s\n",
      "Wall time: 42.5 s\n"
     ]
    }
   ],
   "source": [
    "%%time\n",
    "tune_model('rf','Random Forest Model')"
   ]
  },
  {
   "cell_type": "markdown",
   "id": "c1c2377f",
   "metadata": {},
   "source": [
    "#### XGBoost model"
   ]
  },
  {
   "cell_type": "code",
   "execution_count": 23,
   "id": "2e35d914",
   "metadata": {},
   "outputs": [
    {
     "name": "stdout",
     "output_type": "stream",
     "text": [
      "Fitting 5 folds for each of 32 candidates, totalling 160 fits\n",
      "\n",
      "Optimized hyperparameters: {'gamma': 0.01, 'learning_rate': 0.01, 'max_depth': 6, 'n_estimators': 650, 'reg_alpha': 5, 'reg_lambda': 10}\n",
      "\n",
      "XGBoost Model\n",
      "──────────────────────────────\n",
      "XGBoost Model train RMSE:  47539232.80769251\n",
      "XGBoost Model test RMSE:  67952085.64065495\n",
      "XGBoost Model train R2 score:  0.8633365015635903\n",
      "XGBoost Model test R2 score:  0.7489886326490052\n",
      "\n",
      "CPU times: user 35min 17s, sys: 3min 12s, total: 38min 29s\n",
      "Wall time: 5min 26s\n"
     ]
    }
   ],
   "source": [
    "%%time\n",
    "tune_model('xgb','XGBoost Model')"
   ]
  },
  {
   "cell_type": "markdown",
   "id": "d53a3a67",
   "metadata": {},
   "source": [
    "#### LightGBM model"
   ]
  },
  {
   "cell_type": "code",
   "execution_count": 24,
   "id": "f1361969",
   "metadata": {},
   "outputs": [
    {
     "name": "stdout",
     "output_type": "stream",
     "text": [
      "Fitting 5 folds for each of 8 candidates, totalling 40 fits\n",
      "\n",
      "Optimized hyperparameters: {'learning_rate': 0.01, 'max_depth': 15, 'n_estimators': 450}\n",
      "\n",
      "LightGBM Model\n",
      "──────────────────────────────\n",
      "LightGBM Model train RMSE:  52203605.22384338\n",
      "LightGBM Model test RMSE:  68576515.30039635\n",
      "LightGBM Model train R2 score:  0.8352030422864658\n",
      "LightGBM Model test R2 score:  0.7443542171195994\n",
      "\n",
      "CPU times: user 1min 52s, sys: 6.73 s, total: 1min 59s\n",
      "Wall time: 16.2 s\n"
     ]
    }
   ],
   "source": [
    "%%time\n",
    "tune_model('lgbm','LightGBM Model')"
   ]
  },
  {
   "cell_type": "markdown",
   "id": "a118f002",
   "metadata": {},
   "source": [
    "#### CatBoost model"
   ]
  },
  {
   "cell_type": "code",
   "execution_count": 25,
   "id": "06c79ed4",
   "metadata": {},
   "outputs": [
    {
     "name": "stdout",
     "output_type": "stream",
     "text": [
      "Fitting 5 folds for each of 8 candidates, totalling 40 fits\n",
      "\n",
      "Optimized hyperparameters: {'learning_rate': 0.05, 'max_depth': 8, 'n_estimators': 300}\n",
      "\n",
      "CatBoost Model\n",
      "──────────────────────────────\n",
      "CatBoost Model train RMSE:  43801703.79403303\n",
      "CatBoost Model test RMSE:  66909178.336045735\n",
      "CatBoost Model train R2 score:  0.8839807097307099\n",
      "CatBoost Model test R2 score:  0.7566343940772329\n",
      "\n",
      "CPU times: user 1min 44s, sys: 29.1 s, total: 2min 13s\n",
      "Wall time: 43.8 s\n"
     ]
    }
   ],
   "source": [
    "%%time\n",
    "tune_model('cb','CatBoost Model')"
   ]
  },
  {
   "cell_type": "markdown",
   "id": "345d50a6",
   "metadata": {},
   "source": [
    "#### Summary of results"
   ]
  },
  {
   "cell_type": "markdown",
   "id": "551208d4",
   "metadata": {},
   "source": [
    "The table below is the compilation of the RMSE and R2 scores of the various optimized models.\n",
    "\n",
    "|Model|Train RMSE|Test RMSE|Train R2|Test R2\n",
    "|---|---|---|---|---|\n",
    "|Random Forest|26985089.47|71065163.91|0.9560|0.7255\n",
    "|XGBoost|47539232.81|67952085.64|0.8633|0.7490\n",
    "|LightGBM|52203605.22|68576515.30|0.8352|0.7444\n",
    "|CatBoost|43801703.79|66909178.34|0.8840|0.7566"
   ]
  },
  {
   "cell_type": "markdown",
   "id": "fb903aeb",
   "metadata": {},
   "source": [
    "The gradient boosting models performed better as compared to the random forest model and achieved comparable performance. CatBoost was selected as the final model as it had the highest R2 score of 0.7566, with a reasonably lower RMSE score of 69,251,600 as well."
   ]
  },
  {
   "cell_type": "code",
   "execution_count": 26,
   "id": "f9790088",
   "metadata": {
    "scrolled": true
   },
   "outputs": [
    {
     "name": "stdout",
     "output_type": "stream",
     "text": [
      "0:\tlearn: 125244774.3569927\ttotal: 5.04ms\tremaining: 1.51s\n",
      "1:\tlearn: 121954958.1519930\ttotal: 10.9ms\tremaining: 1.62s\n",
      "2:\tlearn: 118749989.2191503\ttotal: 15.4ms\tremaining: 1.52s\n",
      "3:\tlearn: 115931905.3223780\ttotal: 20.1ms\tremaining: 1.49s\n",
      "4:\tlearn: 113188382.9362358\ttotal: 24.8ms\tremaining: 1.46s\n",
      "5:\tlearn: 110786736.7777941\ttotal: 29.2ms\tremaining: 1.43s\n",
      "6:\tlearn: 108513369.4349498\ttotal: 33.5ms\tremaining: 1.4s\n",
      "7:\tlearn: 106326414.4558007\ttotal: 37.7ms\tremaining: 1.38s\n",
      "8:\tlearn: 104110729.3253143\ttotal: 42.4ms\tremaining: 1.37s\n",
      "9:\tlearn: 101942534.3219789\ttotal: 47ms\tremaining: 1.36s\n",
      "10:\tlearn: 100014147.9190423\ttotal: 51.3ms\tremaining: 1.35s\n",
      "11:\tlearn: 98228344.2965045\ttotal: 55.7ms\tremaining: 1.33s\n",
      "12:\tlearn: 96501654.3434094\ttotal: 60.1ms\tremaining: 1.33s\n",
      "13:\tlearn: 94923019.0121347\ttotal: 64.6ms\tremaining: 1.32s\n",
      "14:\tlearn: 93317065.6073698\ttotal: 69.5ms\tremaining: 1.32s\n",
      "15:\tlearn: 91982113.9357735\ttotal: 74.1ms\tremaining: 1.31s\n",
      "16:\tlearn: 90698140.2619724\ttotal: 78.3ms\tremaining: 1.3s\n",
      "17:\tlearn: 89438179.5552634\ttotal: 82.6ms\tremaining: 1.29s\n",
      "18:\tlearn: 88268336.4508027\ttotal: 87ms\tremaining: 1.29s\n",
      "19:\tlearn: 87120090.5832656\ttotal: 91.5ms\tremaining: 1.28s\n",
      "20:\tlearn: 85940597.2013085\ttotal: 95.7ms\tremaining: 1.27s\n",
      "21:\tlearn: 84805357.2594325\ttotal: 100ms\tremaining: 1.26s\n",
      "22:\tlearn: 83855951.7911141\ttotal: 104ms\tremaining: 1.26s\n",
      "23:\tlearn: 83008070.8562840\ttotal: 109ms\tremaining: 1.25s\n",
      "24:\tlearn: 82157502.2492324\ttotal: 113ms\tremaining: 1.24s\n",
      "25:\tlearn: 81311197.4495239\ttotal: 117ms\tremaining: 1.24s\n",
      "26:\tlearn: 80532771.0148790\ttotal: 122ms\tremaining: 1.23s\n",
      "27:\tlearn: 79789703.6219082\ttotal: 126ms\tremaining: 1.23s\n",
      "28:\tlearn: 79094081.5780156\ttotal: 131ms\tremaining: 1.22s\n",
      "29:\tlearn: 78513488.1228881\ttotal: 135ms\tremaining: 1.22s\n",
      "30:\tlearn: 77909863.3416328\ttotal: 140ms\tremaining: 1.21s\n",
      "31:\tlearn: 77354334.8984769\ttotal: 144ms\tremaining: 1.21s\n",
      "32:\tlearn: 76778343.1527465\ttotal: 149ms\tremaining: 1.2s\n",
      "33:\tlearn: 76191072.3657792\ttotal: 153ms\tremaining: 1.2s\n",
      "34:\tlearn: 75669065.2835305\ttotal: 158ms\tremaining: 1.2s\n",
      "35:\tlearn: 75161621.5693839\ttotal: 163ms\tremaining: 1.2s\n",
      "36:\tlearn: 74633250.5147887\ttotal: 168ms\tremaining: 1.2s\n",
      "37:\tlearn: 74098638.8202832\ttotal: 174ms\tremaining: 1.2s\n",
      "38:\tlearn: 73644087.8516242\ttotal: 179ms\tremaining: 1.2s\n",
      "39:\tlearn: 73247389.5265319\ttotal: 184ms\tremaining: 1.2s\n",
      "40:\tlearn: 72759616.1979176\ttotal: 190ms\tremaining: 1.2s\n",
      "41:\tlearn: 72371351.0733274\ttotal: 195ms\tremaining: 1.2s\n",
      "42:\tlearn: 72040568.9719339\ttotal: 201ms\tremaining: 1.2s\n",
      "43:\tlearn: 71706450.3813625\ttotal: 205ms\tremaining: 1.19s\n",
      "44:\tlearn: 71331806.8360737\ttotal: 210ms\tremaining: 1.19s\n",
      "45:\tlearn: 70999462.3935650\ttotal: 216ms\tremaining: 1.19s\n",
      "46:\tlearn: 70724432.4133430\ttotal: 220ms\tremaining: 1.19s\n",
      "47:\tlearn: 70393518.3915040\ttotal: 225ms\tremaining: 1.18s\n",
      "48:\tlearn: 69990105.2351197\ttotal: 230ms\tremaining: 1.18s\n",
      "49:\tlearn: 69687259.4290673\ttotal: 235ms\tremaining: 1.18s\n",
      "50:\tlearn: 69372264.6445310\ttotal: 240ms\tremaining: 1.17s\n",
      "51:\tlearn: 69014748.0022735\ttotal: 245ms\tremaining: 1.17s\n",
      "52:\tlearn: 68694707.2283943\ttotal: 250ms\tremaining: 1.16s\n",
      "53:\tlearn: 68376825.8777549\ttotal: 254ms\tremaining: 1.16s\n",
      "54:\tlearn: 68047931.9285414\ttotal: 259ms\tremaining: 1.15s\n",
      "55:\tlearn: 67812051.1180540\ttotal: 263ms\tremaining: 1.15s\n",
      "56:\tlearn: 67631350.7722584\ttotal: 266ms\tremaining: 1.13s\n",
      "57:\tlearn: 67398111.2502280\ttotal: 270ms\tremaining: 1.13s\n",
      "58:\tlearn: 67104410.3936406\ttotal: 275ms\tremaining: 1.12s\n",
      "59:\tlearn: 66917024.0465313\ttotal: 279ms\tremaining: 1.12s\n",
      "60:\tlearn: 66583175.6750111\ttotal: 283ms\tremaining: 1.11s\n",
      "61:\tlearn: 66317341.9869551\ttotal: 288ms\tremaining: 1.1s\n",
      "62:\tlearn: 66097876.1519288\ttotal: 292ms\tremaining: 1.1s\n",
      "63:\tlearn: 65874984.3633079\ttotal: 297ms\tremaining: 1.09s\n",
      "64:\tlearn: 65633650.4673090\ttotal: 301ms\tremaining: 1.09s\n",
      "65:\tlearn: 65469336.8042753\ttotal: 306ms\tremaining: 1.08s\n",
      "66:\tlearn: 65261698.6025336\ttotal: 310ms\tremaining: 1.08s\n",
      "67:\tlearn: 65109687.4732815\ttotal: 314ms\tremaining: 1.07s\n",
      "68:\tlearn: 64975407.2917316\ttotal: 319ms\tremaining: 1.07s\n",
      "69:\tlearn: 64794119.3545219\ttotal: 323ms\tremaining: 1.06s\n",
      "70:\tlearn: 64593300.3341352\ttotal: 328ms\tremaining: 1.06s\n",
      "71:\tlearn: 64384927.8027483\ttotal: 332ms\tremaining: 1.05s\n",
      "72:\tlearn: 64158969.6489962\ttotal: 337ms\tremaining: 1.05s\n",
      "73:\tlearn: 63921108.4134866\ttotal: 341ms\tremaining: 1.04s\n",
      "74:\tlearn: 63801407.2341291\ttotal: 347ms\tremaining: 1.04s\n",
      "75:\tlearn: 63547748.6354283\ttotal: 351ms\tremaining: 1.03s\n",
      "76:\tlearn: 63424146.1508275\ttotal: 356ms\tremaining: 1.03s\n",
      "77:\tlearn: 63234295.2105634\ttotal: 361ms\tremaining: 1.03s\n",
      "78:\tlearn: 63070610.9656568\ttotal: 365ms\tremaining: 1.02s\n",
      "79:\tlearn: 62931598.7640124\ttotal: 370ms\tremaining: 1.02s\n",
      "80:\tlearn: 62693379.0843160\ttotal: 374ms\tremaining: 1.01s\n",
      "81:\tlearn: 62587897.0380955\ttotal: 379ms\tremaining: 1.01s\n",
      "82:\tlearn: 62444589.5312476\ttotal: 383ms\tremaining: 1s\n",
      "83:\tlearn: 62336210.1400531\ttotal: 388ms\tremaining: 998ms\n",
      "84:\tlearn: 62109858.6156789\ttotal: 393ms\tremaining: 993ms\n",
      "85:\tlearn: 61974125.5769841\ttotal: 397ms\tremaining: 989ms\n",
      "86:\tlearn: 61794932.0409836\ttotal: 402ms\tremaining: 984ms\n",
      "87:\tlearn: 61617383.2189397\ttotal: 407ms\tremaining: 980ms\n",
      "88:\tlearn: 61431860.0829346\ttotal: 411ms\tremaining: 975ms\n",
      "89:\tlearn: 61287048.1664095\ttotal: 416ms\tremaining: 970ms\n",
      "90:\tlearn: 61181617.9594175\ttotal: 420ms\tremaining: 965ms\n",
      "91:\tlearn: 61067563.3974331\ttotal: 425ms\tremaining: 960ms\n",
      "92:\tlearn: 60852159.6214411\ttotal: 430ms\tremaining: 957ms\n",
      "93:\tlearn: 60654125.8024318\ttotal: 434ms\tremaining: 951ms\n",
      "94:\tlearn: 60486478.5340149\ttotal: 438ms\tremaining: 946ms\n",
      "95:\tlearn: 60312251.1881282\ttotal: 443ms\tremaining: 941ms\n",
      "96:\tlearn: 60202128.2409883\ttotal: 447ms\tremaining: 936ms\n",
      "97:\tlearn: 60034264.5996441\ttotal: 451ms\tremaining: 931ms\n",
      "98:\tlearn: 59889408.6954090\ttotal: 456ms\tremaining: 925ms\n",
      "99:\tlearn: 59775298.5187476\ttotal: 460ms\tremaining: 920ms\n",
      "100:\tlearn: 59690284.0595215\ttotal: 464ms\tremaining: 915ms\n",
      "101:\tlearn: 59601279.3307757\ttotal: 468ms\tremaining: 909ms\n",
      "102:\tlearn: 59514883.4229181\ttotal: 473ms\tremaining: 905ms\n",
      "103:\tlearn: 59380544.5469029\ttotal: 478ms\tremaining: 900ms\n",
      "104:\tlearn: 59184925.6254561\ttotal: 482ms\tremaining: 895ms\n",
      "105:\tlearn: 59064770.9432344\ttotal: 486ms\tremaining: 890ms\n",
      "106:\tlearn: 58914959.7997491\ttotal: 490ms\tremaining: 885ms\n",
      "107:\tlearn: 58813479.8712858\ttotal: 495ms\tremaining: 880ms\n",
      "108:\tlearn: 58649855.3375936\ttotal: 499ms\tremaining: 875ms\n",
      "109:\tlearn: 58563705.9545144\ttotal: 504ms\tremaining: 870ms\n",
      "110:\tlearn: 58440283.9450643\ttotal: 508ms\tremaining: 865ms\n",
      "111:\tlearn: 58331811.0090504\ttotal: 512ms\tremaining: 860ms\n",
      "112:\tlearn: 58223005.3484884\ttotal: 517ms\tremaining: 855ms\n",
      "113:\tlearn: 58078858.4421266\ttotal: 521ms\tremaining: 850ms\n",
      "114:\tlearn: 57991006.7661692\ttotal: 525ms\tremaining: 845ms\n",
      "115:\tlearn: 57853170.6444194\ttotal: 530ms\tremaining: 841ms\n",
      "116:\tlearn: 57738893.2353874\ttotal: 535ms\tremaining: 836ms\n",
      "117:\tlearn: 57604158.4033865\ttotal: 539ms\tremaining: 831ms\n",
      "118:\tlearn: 57541665.8594955\ttotal: 544ms\tremaining: 827ms\n",
      "119:\tlearn: 57497072.2934768\ttotal: 549ms\tremaining: 823ms\n",
      "120:\tlearn: 57378338.5336604\ttotal: 554ms\tremaining: 819ms\n",
      "121:\tlearn: 57230582.6161494\ttotal: 559ms\tremaining: 816ms\n",
      "122:\tlearn: 57097116.1166485\ttotal: 564ms\tremaining: 811ms\n",
      "123:\tlearn: 56993251.0726943\ttotal: 568ms\tremaining: 807ms\n",
      "124:\tlearn: 56881065.3443374\ttotal: 573ms\tremaining: 802ms\n",
      "125:\tlearn: 56738372.5749467\ttotal: 577ms\tremaining: 797ms\n",
      "126:\tlearn: 56554316.0384511\ttotal: 582ms\tremaining: 792ms\n",
      "127:\tlearn: 56504327.4635727\ttotal: 586ms\tremaining: 788ms\n",
      "128:\tlearn: 56362999.9485153\ttotal: 591ms\tremaining: 783ms\n",
      "129:\tlearn: 56257681.7057925\ttotal: 595ms\tremaining: 778ms\n",
      "130:\tlearn: 56184383.6018926\ttotal: 599ms\tremaining: 773ms\n",
      "131:\tlearn: 56054162.4019800\ttotal: 604ms\tremaining: 769ms\n",
      "132:\tlearn: 55968413.9759419\ttotal: 608ms\tremaining: 764ms\n",
      "133:\tlearn: 55848054.1874531\ttotal: 613ms\tremaining: 759ms\n",
      "134:\tlearn: 55761700.6930275\ttotal: 617ms\tremaining: 754ms\n",
      "135:\tlearn: 55684679.8119564\ttotal: 621ms\tremaining: 749ms\n",
      "136:\tlearn: 55638944.3744879\ttotal: 626ms\tremaining: 745ms\n",
      "137:\tlearn: 55523380.0572911\ttotal: 630ms\tremaining: 740ms\n",
      "138:\tlearn: 55460391.1337771\ttotal: 634ms\tremaining: 735ms\n",
      "139:\tlearn: 55409770.1926595\ttotal: 639ms\tremaining: 730ms\n",
      "140:\tlearn: 55343679.5723027\ttotal: 643ms\tremaining: 725ms\n",
      "141:\tlearn: 55276516.8959771\ttotal: 647ms\tremaining: 720ms\n",
      "142:\tlearn: 55182200.2096795\ttotal: 651ms\tremaining: 715ms\n",
      "143:\tlearn: 55106788.1724295\ttotal: 656ms\tremaining: 711ms\n",
      "144:\tlearn: 55010631.7746724\ttotal: 660ms\tremaining: 706ms\n",
      "145:\tlearn: 54899030.7933268\ttotal: 665ms\tremaining: 701ms\n",
      "146:\tlearn: 54804232.1132679\ttotal: 669ms\tremaining: 696ms\n",
      "147:\tlearn: 54706077.5169458\ttotal: 673ms\tremaining: 691ms\n",
      "148:\tlearn: 54607564.6466581\ttotal: 677ms\tremaining: 686ms\n",
      "149:\tlearn: 54530150.4039986\ttotal: 682ms\tremaining: 682ms\n",
      "150:\tlearn: 54452675.4974941\ttotal: 686ms\tremaining: 677ms\n",
      "151:\tlearn: 54385049.4254568\ttotal: 690ms\tremaining: 672ms\n",
      "152:\tlearn: 54298085.1916981\ttotal: 694ms\tremaining: 667ms\n",
      "153:\tlearn: 54209391.5629557\ttotal: 698ms\tremaining: 662ms\n",
      "154:\tlearn: 54066012.4506490\ttotal: 703ms\tremaining: 657ms\n",
      "155:\tlearn: 54011631.5364623\ttotal: 707ms\tremaining: 653ms\n",
      "156:\tlearn: 53908322.9541753\ttotal: 712ms\tremaining: 648ms\n",
      "157:\tlearn: 53840311.6886868\ttotal: 716ms\tremaining: 643ms\n",
      "158:\tlearn: 53806300.4797933\ttotal: 720ms\tremaining: 639ms\n",
      "159:\tlearn: 53681293.5024175\ttotal: 724ms\tremaining: 634ms\n"
     ]
    },
    {
     "name": "stdout",
     "output_type": "stream",
     "text": [
      "160:\tlearn: 53567353.4446207\ttotal: 729ms\tremaining: 630ms\n",
      "161:\tlearn: 53491993.8918129\ttotal: 734ms\tremaining: 625ms\n",
      "162:\tlearn: 53415303.1289830\ttotal: 739ms\tremaining: 621ms\n",
      "163:\tlearn: 53299333.5184522\ttotal: 744ms\tremaining: 617ms\n",
      "164:\tlearn: 53218925.0118608\ttotal: 749ms\tremaining: 613ms\n",
      "165:\tlearn: 53146683.5348630\ttotal: 753ms\tremaining: 608ms\n",
      "166:\tlearn: 53093822.2310635\ttotal: 757ms\tremaining: 603ms\n",
      "167:\tlearn: 53030313.5777294\ttotal: 762ms\tremaining: 599ms\n",
      "168:\tlearn: 52964312.4176563\ttotal: 766ms\tremaining: 594ms\n",
      "169:\tlearn: 52916223.0036916\ttotal: 771ms\tremaining: 589ms\n",
      "170:\tlearn: 52826877.6326113\ttotal: 775ms\tremaining: 585ms\n",
      "171:\tlearn: 52731654.5439684\ttotal: 779ms\tremaining: 580ms\n",
      "172:\tlearn: 52621012.1792240\ttotal: 783ms\tremaining: 575ms\n",
      "173:\tlearn: 52572403.2849361\ttotal: 788ms\tremaining: 571ms\n",
      "174:\tlearn: 52463158.0965267\ttotal: 792ms\tremaining: 566ms\n",
      "175:\tlearn: 52369247.3979591\ttotal: 796ms\tremaining: 561ms\n",
      "176:\tlearn: 52303351.4570832\ttotal: 801ms\tremaining: 556ms\n",
      "177:\tlearn: 52225886.5378913\ttotal: 805ms\tremaining: 552ms\n",
      "178:\tlearn: 52074531.1740164\ttotal: 810ms\tremaining: 547ms\n",
      "179:\tlearn: 51963492.1042276\ttotal: 814ms\tremaining: 543ms\n",
      "180:\tlearn: 51892204.0326541\ttotal: 819ms\tremaining: 538ms\n",
      "181:\tlearn: 51749420.7428349\ttotal: 823ms\tremaining: 533ms\n",
      "182:\tlearn: 51638671.1224927\ttotal: 828ms\tremaining: 529ms\n",
      "183:\tlearn: 51527686.8165580\ttotal: 832ms\tremaining: 525ms\n",
      "184:\tlearn: 51456102.8776123\ttotal: 836ms\tremaining: 520ms\n",
      "185:\tlearn: 51385946.6981455\ttotal: 841ms\tremaining: 515ms\n",
      "186:\tlearn: 51321408.7745201\ttotal: 845ms\tremaining: 510ms\n",
      "187:\tlearn: 51259751.7461917\ttotal: 849ms\tremaining: 506ms\n",
      "188:\tlearn: 51168762.4620581\ttotal: 853ms\tremaining: 501ms\n",
      "189:\tlearn: 51077831.0221886\ttotal: 858ms\tremaining: 496ms\n",
      "190:\tlearn: 51001775.7039262\ttotal: 862ms\tremaining: 492ms\n",
      "191:\tlearn: 50884255.6599794\ttotal: 866ms\tremaining: 487ms\n",
      "192:\tlearn: 50786781.4453712\ttotal: 872ms\tremaining: 483ms\n",
      "193:\tlearn: 50722559.8308164\ttotal: 876ms\tremaining: 479ms\n",
      "194:\tlearn: 50684799.2238051\ttotal: 880ms\tremaining: 474ms\n",
      "195:\tlearn: 50598155.8739945\ttotal: 885ms\tremaining: 469ms\n",
      "196:\tlearn: 50501064.5405455\ttotal: 889ms\tremaining: 465ms\n",
      "197:\tlearn: 50428130.6301005\ttotal: 894ms\tremaining: 460ms\n",
      "198:\tlearn: 50368031.4868759\ttotal: 898ms\tremaining: 456ms\n",
      "199:\tlearn: 50314585.8458219\ttotal: 902ms\tremaining: 451ms\n",
      "200:\tlearn: 50237106.1602663\ttotal: 907ms\tremaining: 447ms\n",
      "201:\tlearn: 50176855.8482453\ttotal: 911ms\tremaining: 442ms\n",
      "202:\tlearn: 50084108.0645445\ttotal: 915ms\tremaining: 437ms\n",
      "203:\tlearn: 50016352.8281914\ttotal: 919ms\tremaining: 433ms\n",
      "204:\tlearn: 49945996.4659368\ttotal: 924ms\tremaining: 428ms\n",
      "205:\tlearn: 49865523.1051214\ttotal: 928ms\tremaining: 424ms\n",
      "206:\tlearn: 49820368.8468265\ttotal: 933ms\tremaining: 419ms\n",
      "207:\tlearn: 49760177.2051326\ttotal: 937ms\tremaining: 415ms\n",
      "208:\tlearn: 49733372.0312905\ttotal: 942ms\tremaining: 410ms\n",
      "209:\tlearn: 49623903.5992650\ttotal: 947ms\tremaining: 406ms\n",
      "210:\tlearn: 49586173.9392676\ttotal: 952ms\tremaining: 402ms\n",
      "211:\tlearn: 49511262.8085453\ttotal: 958ms\tremaining: 398ms\n",
      "212:\tlearn: 49394726.7434772\ttotal: 962ms\tremaining: 393ms\n",
      "213:\tlearn: 49336596.7230839\ttotal: 967ms\tremaining: 388ms\n",
      "214:\tlearn: 49292570.5586654\ttotal: 971ms\tremaining: 384ms\n",
      "215:\tlearn: 49216683.2872852\ttotal: 975ms\tremaining: 379ms\n",
      "216:\tlearn: 49189304.0431325\ttotal: 980ms\tremaining: 375ms\n",
      "217:\tlearn: 49125644.2969505\ttotal: 984ms\tremaining: 370ms\n",
      "218:\tlearn: 49053188.4420005\ttotal: 988ms\tremaining: 366ms\n",
      "219:\tlearn: 49008752.3905187\ttotal: 993ms\tremaining: 361ms\n",
      "220:\tlearn: 48949375.9625012\ttotal: 997ms\tremaining: 356ms\n",
      "221:\tlearn: 48837177.0254679\ttotal: 1s\tremaining: 352ms\n",
      "222:\tlearn: 48771225.4614960\ttotal: 1s\tremaining: 347ms\n",
      "223:\tlearn: 48724616.8779911\ttotal: 1.01s\tremaining: 343ms\n",
      "224:\tlearn: 48684581.7373779\ttotal: 1.01s\tremaining: 338ms\n",
      "225:\tlearn: 48647717.4099083\ttotal: 1.02s\tremaining: 334ms\n",
      "226:\tlearn: 48583428.7288789\ttotal: 1.02s\tremaining: 329ms\n",
      "227:\tlearn: 48548060.0449618\ttotal: 1.03s\tremaining: 325ms\n",
      "228:\tlearn: 48460227.9125063\ttotal: 1.03s\tremaining: 320ms\n",
      "229:\tlearn: 48425691.6954831\ttotal: 1.04s\tremaining: 316ms\n",
      "230:\tlearn: 48336897.8833925\ttotal: 1.04s\tremaining: 311ms\n",
      "231:\tlearn: 48266314.4965045\ttotal: 1.04s\tremaining: 306ms\n",
      "232:\tlearn: 48161036.3465416\ttotal: 1.05s\tremaining: 302ms\n",
      "233:\tlearn: 48078169.5149558\ttotal: 1.05s\tremaining: 297ms\n",
      "234:\tlearn: 48054425.2396503\ttotal: 1.06s\tremaining: 293ms\n",
      "235:\tlearn: 48022147.5909125\ttotal: 1.06s\tremaining: 288ms\n",
      "236:\tlearn: 47945228.8074972\ttotal: 1.07s\tremaining: 284ms\n",
      "237:\tlearn: 47907893.0377072\ttotal: 1.07s\tremaining: 279ms\n",
      "238:\tlearn: 47843214.4606268\ttotal: 1.08s\tremaining: 275ms\n",
      "239:\tlearn: 47789491.4259461\ttotal: 1.08s\tremaining: 270ms\n",
      "240:\tlearn: 47750749.1973932\ttotal: 1.08s\tremaining: 266ms\n",
      "241:\tlearn: 47681700.4976037\ttotal: 1.09s\tremaining: 261ms\n",
      "242:\tlearn: 47664380.0186909\ttotal: 1.09s\tremaining: 257ms\n",
      "243:\tlearn: 47654120.6257178\ttotal: 1.1s\tremaining: 252ms\n",
      "244:\tlearn: 47643450.8083828\ttotal: 1.1s\tremaining: 247ms\n",
      "245:\tlearn: 47505416.2039315\ttotal: 1.11s\tremaining: 243ms\n",
      "246:\tlearn: 47460437.8929327\ttotal: 1.11s\tremaining: 238ms\n",
      "247:\tlearn: 47332875.1968072\ttotal: 1.11s\tremaining: 234ms\n",
      "248:\tlearn: 47300573.6858792\ttotal: 1.12s\tremaining: 229ms\n",
      "249:\tlearn: 47240195.5319538\ttotal: 1.12s\tremaining: 225ms\n",
      "250:\tlearn: 47175607.9098338\ttotal: 1.13s\tremaining: 220ms\n",
      "251:\tlearn: 47050173.2888137\ttotal: 1.13s\tremaining: 216ms\n",
      "252:\tlearn: 46989501.5043642\ttotal: 1.14s\tremaining: 211ms\n",
      "253:\tlearn: 46919546.3430828\ttotal: 1.14s\tremaining: 207ms\n",
      "254:\tlearn: 46848421.1352233\ttotal: 1.15s\tremaining: 202ms\n",
      "255:\tlearn: 46782795.8863953\ttotal: 1.15s\tremaining: 198ms\n",
      "256:\tlearn: 46750260.8456827\ttotal: 1.15s\tremaining: 193ms\n",
      "257:\tlearn: 46709336.4100088\ttotal: 1.16s\tremaining: 189ms\n",
      "258:\tlearn: 46703253.4812336\ttotal: 1.16s\tremaining: 184ms\n",
      "259:\tlearn: 46655857.0412579\ttotal: 1.17s\tremaining: 180ms\n",
      "260:\tlearn: 46549285.3856624\ttotal: 1.17s\tremaining: 175ms\n",
      "261:\tlearn: 46507706.6500325\ttotal: 1.18s\tremaining: 171ms\n",
      "262:\tlearn: 46366741.3993322\ttotal: 1.18s\tremaining: 166ms\n",
      "263:\tlearn: 46286851.6202922\ttotal: 1.19s\tremaining: 162ms\n",
      "264:\tlearn: 46243195.5862946\ttotal: 1.19s\tremaining: 157ms\n",
      "265:\tlearn: 46138652.5000390\ttotal: 1.19s\tremaining: 153ms\n",
      "266:\tlearn: 46034644.6515247\ttotal: 1.2s\tremaining: 148ms\n",
      "267:\tlearn: 45948744.3555622\ttotal: 1.2s\tremaining: 144ms\n",
      "268:\tlearn: 45868439.8862577\ttotal: 1.21s\tremaining: 139ms\n",
      "269:\tlearn: 45791191.5233402\ttotal: 1.21s\tremaining: 135ms\n",
      "270:\tlearn: 45735596.2513598\ttotal: 1.22s\tremaining: 130ms\n",
      "271:\tlearn: 45667480.0902350\ttotal: 1.22s\tremaining: 126ms\n",
      "272:\tlearn: 45614630.1206144\ttotal: 1.22s\tremaining: 121ms\n",
      "273:\tlearn: 45597641.3674234\ttotal: 1.23s\tremaining: 117ms\n",
      "274:\tlearn: 45548918.7016254\ttotal: 1.23s\tremaining: 112ms\n",
      "275:\tlearn: 45497779.9699064\ttotal: 1.24s\tremaining: 108ms\n",
      "276:\tlearn: 45484748.0737542\ttotal: 1.24s\tremaining: 103ms\n",
      "277:\tlearn: 45387376.6548573\ttotal: 1.25s\tremaining: 98.6ms\n",
      "278:\tlearn: 45330378.5432143\ttotal: 1.25s\tremaining: 94.1ms\n",
      "279:\tlearn: 45267575.2892379\ttotal: 1.25s\tremaining: 89.6ms\n",
      "280:\tlearn: 45199300.4148636\ttotal: 1.26s\tremaining: 85.1ms\n",
      "281:\tlearn: 45161763.4877742\ttotal: 1.26s\tremaining: 80.6ms\n",
      "282:\tlearn: 45124090.3647022\ttotal: 1.27s\tremaining: 76.2ms\n",
      "283:\tlearn: 45100579.1654096\ttotal: 1.27s\tremaining: 71.7ms\n",
      "284:\tlearn: 45082747.9845542\ttotal: 1.28s\tremaining: 67.2ms\n",
      "285:\tlearn: 44998239.9366447\ttotal: 1.28s\tremaining: 62.7ms\n",
      "286:\tlearn: 44916062.3324538\ttotal: 1.28s\tremaining: 58.2ms\n",
      "287:\tlearn: 44880305.9686235\ttotal: 1.29s\tremaining: 53.7ms\n",
      "288:\tlearn: 44856847.3251706\ttotal: 1.29s\tremaining: 49.2ms\n",
      "289:\tlearn: 44789159.8727440\ttotal: 1.3s\tremaining: 44.7ms\n",
      "290:\tlearn: 44738590.1676243\ttotal: 1.3s\tremaining: 40.3ms\n",
      "291:\tlearn: 44665618.4482265\ttotal: 1.31s\tremaining: 35.8ms\n",
      "292:\tlearn: 44637550.0179603\ttotal: 1.31s\tremaining: 31.3ms\n",
      "293:\tlearn: 44569401.6765883\ttotal: 1.31s\tremaining: 26.8ms\n",
      "294:\tlearn: 44545618.3272066\ttotal: 1.32s\tremaining: 22.4ms\n",
      "295:\tlearn: 44484647.4745232\ttotal: 1.32s\tremaining: 17.9ms\n",
      "296:\tlearn: 44408746.2795143\ttotal: 1.33s\tremaining: 13.4ms\n",
      "297:\tlearn: 44357493.8844955\ttotal: 1.33s\tremaining: 8.94ms\n",
      "298:\tlearn: 44273498.4934116\ttotal: 1.34s\tremaining: 4.47ms\n",
      "299:\tlearn: 44250909.1497687\ttotal: 1.34s\tremaining: 0us\n"
     ]
    },
    {
     "data": {
      "text/plain": [
       "<catboost.core.CatBoostRegressor at 0x7febc8894f10>"
      ]
     },
     "execution_count": 26,
     "metadata": {},
     "output_type": "execute_result"
    }
   ],
   "source": [
    "#instantiate final model\n",
    "final_model = CatBoostRegressor(n_estimators=300,\n",
    "                               max_depth=8,\n",
    "                               learning_rate=0.05)\n",
    "\n",
    "final_model.fit(X_train,y_train)"
   ]
  },
  {
   "cell_type": "markdown",
   "id": "56b3135e",
   "metadata": {},
   "source": [
    "#### Model Interpretation"
   ]
  },
  {
   "cell_type": "code",
   "execution_count": 27,
   "id": "9efaa20c",
   "metadata": {},
   "outputs": [
    {
     "data": {
      "image/png": "[encoded data removed]",
      "text/plain": [
       "<Figure size 576x1008 with 1 Axes>"
      ]
     },
     "metadata": {
      "needs_background": "light"
     },
     "output_type": "display_data"
    }
   ],
   "source": [
    "#feature importance plot\n",
    "imp_feat = pd.DataFrame(data=final_model.feature_importances_, \n",
    "                        index=X.columns, \n",
    "                        columns=['Feature Importance']).sort_values('Feature Importance',ascending=False)\n",
    "\n",
    "plt.figure(figsize=(8,14))\n",
    "sns.barplot(data=imp_feat, y=imp_feat.index, x='Feature Importance', color='dodgerblue')\n",
    "\n",
    "plt.title(\"Feature Importance for box office revenue prediction\");"
   ]
  },
  {
   "cell_type": "markdown",
   "id": "6dd62081",
   "metadata": {},
   "source": [
    "The feature importance plot shows that the number of votes and movie budget were the 2 strongest predictor variables for box office revenue."
   ]
  },
  {
   "cell_type": "markdown",
   "id": "fa809ba7",
   "metadata": {},
   "source": [
    "## Conclusion"
   ]
  },
  {
   "cell_type": "markdown",
   "id": "790c6ffd",
   "metadata": {},
   "source": [
    "The final Catboost model achieved a RMSE score of 69,251,600 and a R2 score of 0.7566. However, when comparing the train metrics with the test metrics, we see that there are overfitting issues with our model even after trying to. This suggest that the model should be further improved before it can be reliably used/deployed. "
   ]
  },
  {
   "cell_type": "markdown",
   "id": "186fa897",
   "metadata": {},
   "source": [
    "#### Limitations"
   ]
  },
  {
   "cell_type": "markdown",
   "id": "e3433b07",
   "metadata": {},
   "source": [
    "There were a few limitations while working on this model:\n",
    "- There was insufficient data to build a robust model. We scraped movies based on the popularity section on the TMDB website using the TMDB API. However we were only able to scrape the first 500 pages and this limited us to maximum of 10,000 movies.\n",
    "- Approximately half of the initial dataset had missing values within the target revenue column, which rendered it useless for modellng purposes. This contributed more to insufficient data.\n",
    "- Possible inaccuracies of data. TMDB is a user-editable database which meant that the data may not be verified before being updated on the website.\n",
    "- Some predictor variables may not be useful even though they are good predictors for box office revenue, such as vote_count and years_released. These information may not be useful for the stakeholders as some of the data will only be available post-production/post-release."
   ]
  },
  {
   "cell_type": "markdown",
   "id": "ab48558f",
   "metadata": {},
   "source": [
    "#### Possible improvements"
   ]
  },
  {
   "cell_type": "markdown",
   "id": "64b2d0d0",
   "metadata": {},
   "source": [
    "- Better feature engineering on some of the original features such as cast and crew information as it is well understood that some audience may be more inclined to watch in theaters if certain cast or crew were involved in the movie\n",
    "- Combine information from various platforms such as IMDB, Rotten Tomatoes and Metacritic to obtain a more robust dataset\n",
    "- NLP techniques to analyze public sentiments on the movie during early stages of production."
   ]
  }
 ],
 "metadata": {
  "kernelspec": {
   "display_name": "Python 3",
   "language": "python",
   "name": "python3"
  },
  "language_info": {
   "codemirror_mode": {
    "name": "ipython",
    "version": 3
   },
   "file_extension": ".py",
   "mimetype": "text/x-python",
   "name": "python",
   "nbconvert_exporter": "python",
   "pygments_lexer": "ipython3",
   "version": "3.8.8"
  }
 },
 "nbformat": 4,
 "nbformat_minor": 5
}
